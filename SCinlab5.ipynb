{
  "nbformat": 4,
  "nbformat_minor": 0,
  "metadata": {
    "kernelspec": {
      "display_name": "Python 3",
      "language": "python",
      "name": "python3"
    },
    "language_info": {
      "codemirror_mode": {
        "name": "ipython",
        "version": 3
      },
      "file_extension": ".py",
      "mimetype": "text/x-python",
      "name": "python",
      "nbconvert_exporter": "python",
      "pygments_lexer": "ipython3",
      "version": "3.7.2"
    },
    "colab": {
      "name": "SCinlab5.ipynb",
      "provenance": []
    }
  },
  "cells": [
    {
      "cell_type": "code",
      "metadata": {
        "id": "ITE26pNG9gxe",
        "colab_type": "code",
        "outputId": "d36b5420-543a-48df-c923-807e46d06082",
        "colab": {
          "base_uri": "https://localhost:8080/",
          "height": 85
        }
      },
      "source": [
        "#inlab\n",
        "def ANDNOT (a, b):\n",
        "    w1=1\n",
        "    w2=1\n",
        "    t=-1.5\n",
        "    c=a*w1+b*w2\n",
        "    if ( a>b and c > t):\n",
        "        return 1\n",
        "    else:\n",
        "        return 0\n",
        "# main function\n",
        "if __name__=='__main__':\n",
        "    print(ANDNOT(0,0))\n",
        "    print(ANDNOT(0,1))\n",
        "    print(ANDNOT(1,0))\n",
        "    print(ANDNOT(1,1)) "
      ],
      "execution_count": 2,
      "outputs": [
        {
          "output_type": "stream",
          "text": [
            "0\n",
            "0\n",
            "1\n",
            "0\n"
          ],
          "name": "stdout"
        }
      ]
    },
    {
      "cell_type": "code",
      "metadata": {
        "id": "FqLXDguH9gxk",
        "colab_type": "code",
        "outputId": "335b1d57-1325-4f5c-9500-11ba46986787",
        "colab": {
          "base_uri": "https://localhost:8080/",
          "height": 85
        }
      },
      "source": [
        "#postlab\n",
        "def xor(a,b):\n",
        "    w5=1\n",
        "    w6=1\n",
        "    t3=-1.5\n",
        "    a2=rr(a,b)*w5+ nand(a,b)*w6+t3;\n",
        "    if(a2>=0 ):\n",
        "        return 1\n",
        "    else:\n",
        "        return 0\n",
        "   \n",
        "def rr(a,b):\n",
        "        w3=1\n",
        "        w4=1\n",
        "        t1=-0.5\n",
        "        s=a*w3+b*w4+t1\n",
        "        if(s>=0):\n",
        "            return 1\n",
        "        else:\n",
        "            return 0\n",
        "         \n",
        "\n",
        "def nand(a,b):\n",
        "   w1=-1\n",
        "   w2=-1\n",
        "   t2=1\n",
        "   a1=a*w1+b*w2+t2\n",
        "   if(a1>=0):\n",
        "        return 1\n",
        "   else:\n",
        "        return 0\n",
        "   \n",
        "\n",
        "if __name__=='__main__':\n",
        "    print(xor(0,0))\n",
        "    print(xor(0,1))\n",
        "    print(xor(1,0))\n",
        "    print(xor(1,1)) "
      ],
      "execution_count": 3,
      "outputs": [
        {
          "output_type": "stream",
          "text": [
            "0\n",
            "1\n",
            "1\n",
            "0\n"
          ],
          "name": "stdout"
        }
      ]
    },
    {
      "cell_type": "code",
      "metadata": {
        "id": "L7ZQTNmL9gxn",
        "colab_type": "code",
        "colab": {}
      },
      "source": [
        ""
      ],
      "execution_count": 0,
      "outputs": []
    }
  ]
}